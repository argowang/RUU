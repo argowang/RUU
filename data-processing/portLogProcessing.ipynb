{
 "cells": [
  {
   "cell_type": "code",
   "execution_count": 11,
   "metadata": {
    "collapsed": true
   },
   "outputs": [],
   "source": [
    "import re\n",
    "import pandas as pd"
   ]
  },
  {
   "cell_type": "code",
   "execution_count": 12,
   "metadata": {
    "collapsed": true
   },
   "outputs": [],
   "source": [
    "LOG_DIR = \"../log_junyi_testing_2\""
   ]
  },
  {
   "cell_type": "code",
   "execution_count": 13,
   "metadata": {
    "collapsed": true
   },
   "outputs": [],
   "source": [
    "portFile = open(LOG_DIR+\"/portAudit.log\", \"r\")\n",
    "portContent = portFile.readlines()"
   ]
  },
  {
   "cell_type": "code",
   "execution_count": 14,
   "metadata": {
    "collapsed": true
   },
   "outputs": [],
   "source": [
    "def splitByMilestone(inputList):  \n",
    "    buffer = \"\"\n",
    "    splitByMilestone = []\n",
    "    for line in portContent:\n",
    "        if \"---5min Port Audit milestone\" in line:\n",
    "            splitByMilestone.append(buffer)\n",
    "            buffer = \"\"\n",
    "        if \"->\" in line:\n",
    "            buffer += line.split(\" \")[-1]\n",
    "    return splitByMilestone"
   ]
  },
  {
   "cell_type": "code",
   "execution_count": 15,
   "metadata": {
    "collapsed": true
   },
   "outputs": [],
   "source": [
    "inputByMilestone = splitByMilestone(portContent)\n",
    "# print inputByMilestone[2].split(\"\\n\")[:-1]\n",
    "# print \"---\"\n",
    "# print len(inputByMilestone[2].split(\"\\n\"))"
   ]
  },
  {
   "cell_type": "code",
   "execution_count": 16,
   "metadata": {
    "collapsed": true
   },
   "outputs": [],
   "source": [
    "def calPortChange(portList1, portList2):\n",
    "    portSet1 = set(portList1.split(\"\\n\")[:-1])\n",
    "    portSize1 = len(portSet1)\n",
    "    \n",
    "    portSet2 = set(portList2.split(\"\\n\")[:-1])\n",
    "    portSize2 = len(portSet2)\n",
    "    \n",
    "    intersectSet = portSet1.intersection(portSet2)\n",
    "    unionSet = portSet1.union(portSet2)\n",
    "    \n",
    "    numOfPortOpened = len(unionSet) - portSize1\n",
    "    numOfPortClosed = portSize1 - len(intersectSet)\n",
    "    \n",
    "    return numOfPortOpened, numOfPortClosed"
   ]
  },
  {
   "cell_type": "code",
   "execution_count": 17,
   "metadata": {
    "collapsed": true
   },
   "outputs": [],
   "source": [
    "numOpenedList = []\n",
    "numClosedList = []\n",
    "for i in range(len(inputByMilestone)):\n",
    "    if i == 0:\n",
    "        numOpenedList.append(-1)\n",
    "        numClosedList.append(-1)\n",
    "        continue\n",
    "    numOpened, numClosed = calPortChange(inputByMilestone[i-1], inputByMilestone[i])\n",
    "    numOpenedList.append(numOpened)\n",
    "    numClosedList.append(numClosed)"
   ]
  },
  {
   "cell_type": "code",
   "execution_count": 18,
   "metadata": {},
   "outputs": [
    {
     "name": "stdout",
     "output_type": "stream",
     "text": [
      "# of Port Opened: -1\n",
      "# of Port Closed: -1\n",
      "\n",
      "\n",
      "# of Port Opened: 3\n",
      "# of Port Closed: 4\n",
      "\n",
      "\n",
      "# of Port Opened: 8\n",
      "# of Port Closed: 3\n",
      "\n",
      "\n",
      "# of Port Opened: 37\n",
      "# of Port Closed: 8\n",
      "\n",
      "\n",
      "# of Port Opened: 27\n",
      "# of Port Closed: 31\n",
      "\n",
      "\n",
      "# of Port Opened: 4\n",
      "# of Port Closed: 31\n",
      "\n",
      "\n",
      "# of Port Opened: 1\n",
      "# of Port Closed: 7\n",
      "\n",
      "\n",
      "# of Port Opened: 1\n",
      "# of Port Closed: 1\n",
      "\n",
      "\n",
      "# of Port Opened: 3\n",
      "# of Port Closed: 1\n",
      "\n",
      "\n",
      "# of Port Opened: 6\n",
      "# of Port Closed: 8\n",
      "\n",
      "\n",
      "# of Port Opened: 2\n",
      "# of Port Closed: 1\n",
      "\n",
      "\n",
      "# of Port Opened: 1\n",
      "# of Port Closed: 2\n",
      "\n",
      "\n",
      "# of Port Opened: 0\n",
      "# of Port Closed: 2\n",
      "\n",
      "\n",
      "# of Port Opened: 9\n",
      "# of Port Closed: 0\n",
      "\n",
      "\n",
      "# of Port Opened: 1\n",
      "# of Port Closed: 8\n",
      "\n",
      "\n",
      "# of Port Opened: 5\n",
      "# of Port Closed: 3\n",
      "\n",
      "\n",
      "# of Port Opened: 0\n",
      "# of Port Closed: 3\n",
      "\n",
      "\n",
      "# of Port Opened: 5\n",
      "# of Port Closed: 0\n",
      "\n",
      "\n",
      "# of Port Opened: 15\n",
      "# of Port Closed: 4\n",
      "\n",
      "\n",
      "# of Port Opened: 12\n",
      "# of Port Closed: 14\n",
      "\n",
      "\n",
      "# of Port Opened: 11\n",
      "# of Port Closed: 13\n",
      "\n",
      "\n",
      "# of Port Opened: 20\n",
      "# of Port Closed: 14\n",
      "\n",
      "\n",
      "# of Port Opened: 12\n",
      "# of Port Closed: 17\n",
      "\n",
      "\n",
      "# of Port Opened: 3\n",
      "# of Port Closed: 8\n",
      "\n",
      "\n",
      "# of Port Opened: 4\n",
      "# of Port Closed: 7\n",
      "\n",
      "\n",
      "# of Port Opened: 15\n",
      "# of Port Closed: 4\n",
      "\n",
      "\n",
      "# of Port Opened: 1\n",
      "# of Port Closed: 11\n",
      "\n",
      "\n",
      "# of Port Opened: 17\n",
      "# of Port Closed: 6\n",
      "\n",
      "\n",
      "# of Port Opened: 2\n",
      "# of Port Closed: 14\n",
      "\n",
      "\n",
      "# of Port Opened: 5\n",
      "# of Port Closed: 5\n",
      "\n",
      "\n",
      "# of Port Opened: 17\n",
      "# of Port Closed: 2\n",
      "\n",
      "\n",
      "# of Port Opened: 15\n",
      "# of Port Closed: 16\n",
      "\n",
      "\n",
      "# of Port Opened: 29\n",
      "# of Port Closed: 15\n",
      "\n",
      "\n",
      "# of Port Opened: 8\n",
      "# of Port Closed: 30\n",
      "\n",
      "\n",
      "# of Port Opened: 3\n",
      "# of Port Closed: 11\n",
      "\n",
      "\n",
      "# of Port Opened: 3\n",
      "# of Port Closed: 2\n",
      "\n",
      "\n",
      "# of Port Opened: 3\n",
      "# of Port Closed: 3\n",
      "\n",
      "\n",
      "# of Port Opened: 68\n",
      "# of Port Closed: 3\n",
      "\n",
      "\n",
      "# of Port Opened: 13\n",
      "# of Port Closed: 51\n",
      "\n",
      "\n",
      "# of Port Opened: 52\n",
      "# of Port Closed: 24\n",
      "\n",
      "\n",
      "# of Port Opened: 35\n",
      "# of Port Closed: 49\n",
      "\n",
      "\n",
      "# of Port Opened: 1\n",
      "# of Port Closed: 43\n",
      "\n",
      "\n",
      "# of Port Opened: 9\n",
      "# of Port Closed: 2\n",
      "\n",
      "\n"
     ]
    }
   ],
   "source": [
    "for i in range(len(inputByMilestone)):\n",
    "    print(\"# of Port Opened: \" + str(numOpenedList[i]))\n",
    "    print(\"# of Port Closed: \" + str(numClosedList[i]))\n",
    "    print(\"\\n\")"
   ]
  },
  {
   "cell_type": "code",
   "execution_count": 19,
   "metadata": {},
   "outputs": [
    {
     "data": {
      "text/plain": [
       "43"
      ]
     },
     "execution_count": 19,
     "metadata": {},
     "output_type": "execute_result"
    }
   ],
   "source": [
    "len(inputByMilestone)"
   ]
  },
  {
   "cell_type": "code",
   "execution_count": 20,
   "metadata": {
    "collapsed": true
   },
   "outputs": [],
   "source": [
    "df1 = pd.DataFrame(numOpenedList, columns=['Num of port opened'])\n",
    "df2 = pd.DataFrame(numClosedList, columns=['Num of port closed'])\n",
    "df1.to_csv(\"port_open_monitor.csv\", index=False, sep=' ')\n",
    "df2.to_csv(\"port_closed_monitor.csv\", index=False, sep=' ')"
   ]
  },
  {
   "cell_type": "code",
   "execution_count": null,
   "metadata": {
    "collapsed": true
   },
   "outputs": [],
   "source": []
  }
 ],
 "metadata": {
  "kernelspec": {
   "display_name": "Python 2",
   "language": "python",
   "name": "python2"
  },
  "language_info": {
   "codemirror_mode": {
    "name": "ipython",
    "version": 2
   },
   "file_extension": ".py",
   "mimetype": "text/x-python",
   "name": "python",
   "nbconvert_exporter": "python",
   "pygments_lexer": "ipython2",
   "version": "2.7.13"
  }
 },
 "nbformat": 4,
 "nbformat_minor": 2
}
