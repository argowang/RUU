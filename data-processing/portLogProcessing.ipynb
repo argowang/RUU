{
 "cells": [
  {
   "cell_type": "code",
   "execution_count": 1,
   "metadata": {
    "collapsed": true
   },
   "outputs": [],
   "source": [
    "import re"
   ]
  },
  {
   "cell_type": "code",
   "execution_count": 2,
   "metadata": {
    "collapsed": true
   },
   "outputs": [],
   "source": [
    "LOG_DIR = \"../log_backup\""
   ]
  },
  {
   "cell_type": "code",
   "execution_count": 3,
   "metadata": {
    "collapsed": true
   },
   "outputs": [],
   "source": [
    "portFile = open(LOG_DIR+\"/portAudit.txt\", \"r\")\n",
    "portContent = portFile.readlines()"
   ]
  },
  {
   "cell_type": "code",
   "execution_count": 82,
   "metadata": {
    "collapsed": true
   },
   "outputs": [],
   "source": [
    "def splitByMilestone(inputList):    \n",
    "    buffer = \"\"\n",
    "    splitByMilestone = []\n",
    "    for line in portContent:\n",
    "        if \"---5min Port Audit milestone\" in line:\n",
    "            copy = True\n",
    "            splitByMilestone.append(buffer)\n",
    "            buffer = \"\"\n",
    "        if \"->\" in line:\n",
    "            buffer += line.split(\" \")[-1]\n",
    "    return splitByMilestone"
   ]
  },
  {
   "cell_type": "code",
   "execution_count": 102,
   "metadata": {},
   "outputs": [],
   "source": [
    "inputByMilestone = splitByMilestone(portContent)\n",
    "# print inputByMilestone[2].split(\"\\n\")[:-1]\n",
    "# print \"---\"\n",
    "# print len(inputByMilestone[2].split(\"\\n\"))"
   ]
  },
  {
   "cell_type": "code",
   "execution_count": 104,
   "metadata": {
    "collapsed": true
   },
   "outputs": [],
   "source": [
    "def calPortChange(portList1, portList2):\n",
    "    portSet1 = set(portList1.split(\"\\n\")[:-1])\n",
    "    portSize1 = len(portSet1)\n",
    "    \n",
    "    portSet2 = set(portList2.split(\"\\n\")[:-1])\n",
    "    portSize2 = len(portSet2)\n",
    "    \n",
    "    intersectSet = portSet1.intersection(portSet2)\n",
    "    unionSet = portSet1.union(portSet2)\n",
    "    \n",
    "    numOfPortOpened = len(unionSet) - portSize1\n",
    "    numOfPortClosed = portSize1 - len(intersectSet)\n",
    "    \n",
    "    return numOfPortOpened, numOfPortClosed"
   ]
  },
  {
   "cell_type": "code",
   "execution_count": 105,
   "metadata": {},
   "outputs": [],
   "source": [
    "numOpenedList = []\n",
    "numClosedList = []\n",
    "for i in range(len(inputByMilestone)):\n",
    "    if i == 0:\n",
    "        numOpenedList.append(-1)\n",
    "        numClosedList.append(-1)\n",
    "        continue\n",
    "    numOpened, numClosed = calPortChange(inputByMilestone[i-1], inputByMilestone[i])\n",
    "    numOpenedList.append(numOpened)\n",
    "    numClosedList.append(numClosed)"
   ]
  },
  {
   "cell_type": "code",
   "execution_count": 106,
   "metadata": {},
   "outputs": [
    {
     "name": "stdout",
     "output_type": "stream",
     "text": [
      "# of Port Opened: -1\n",
      "# of Port Closed: -1\n",
      "\n",
      "\n",
      "# of Port Opened: 9\n",
      "# of Port Closed: 3\n",
      "\n",
      "\n",
      "# of Port Opened: 2\n",
      "# of Port Closed: 7\n",
      "\n",
      "\n",
      "# of Port Opened: 17\n",
      "# of Port Closed: 4\n",
      "\n",
      "\n",
      "# of Port Opened: 155\n",
      "# of Port Closed: 15\n",
      "\n",
      "\n",
      "# of Port Opened: 120\n",
      "# of Port Closed: 119\n",
      "\n",
      "\n",
      "# of Port Opened: 16\n",
      "# of Port Closed: 118\n",
      "\n",
      "\n",
      "# of Port Opened: 3\n",
      "# of Port Closed: 36\n",
      "\n",
      "\n",
      "# of Port Opened: 97\n",
      "# of Port Closed: 18\n",
      "\n",
      "\n",
      "# of Port Opened: 3\n",
      "# of Port Closed: 61\n",
      "\n",
      "\n",
      "# of Port Opened: 52\n",
      "# of Port Closed: 39\n",
      "\n",
      "\n",
      "# of Port Opened: 23\n",
      "# of Port Closed: 72\n",
      "\n",
      "\n",
      "# of Port Opened: 30\n",
      "# of Port Closed: 13\n",
      "\n",
      "\n",
      "# of Port Opened: 19\n",
      "# of Port Closed: 27\n",
      "\n",
      "\n",
      "# of Port Opened: 2\n",
      "# of Port Closed: 18\n",
      "\n",
      "\n",
      "# of Port Opened: 2\n",
      "# of Port Closed: 2\n",
      "\n",
      "\n",
      "# of Port Opened: 2\n",
      "# of Port Closed: 1\n",
      "\n",
      "\n",
      "# of Port Opened: 1\n",
      "# of Port Closed: 2\n",
      "\n",
      "\n",
      "# of Port Opened: 3\n",
      "# of Port Closed: 1\n",
      "\n",
      "\n",
      "# of Port Opened: 5\n",
      "# of Port Closed: 4\n",
      "\n",
      "\n",
      "# of Port Opened: 4\n",
      "# of Port Closed: 4\n",
      "\n",
      "\n",
      "# of Port Opened: 1\n",
      "# of Port Closed: 4\n",
      "\n",
      "\n",
      "# of Port Opened: 1\n",
      "# of Port Closed: 1\n",
      "\n",
      "\n",
      "# of Port Opened: 3\n",
      "# of Port Closed: 1\n",
      "\n",
      "\n",
      "# of Port Opened: 9\n",
      "# of Port Closed: 9\n",
      "\n",
      "\n",
      "# of Port Opened: 0\n",
      "# of Port Closed: 3\n",
      "\n",
      "\n",
      "# of Port Opened: 1\n",
      "# of Port Closed: 1\n",
      "\n",
      "\n",
      "# of Port Opened: 2\n",
      "# of Port Closed: 0\n",
      "\n",
      "\n",
      "# of Port Opened: 1\n",
      "# of Port Closed: 1\n",
      "\n",
      "\n",
      "# of Port Opened: 0\n",
      "# of Port Closed: 2\n",
      "\n",
      "\n",
      "# of Port Opened: 1\n",
      "# of Port Closed: 0\n",
      "\n",
      "\n",
      "# of Port Opened: 8\n",
      "# of Port Closed: 2\n",
      "\n",
      "\n",
      "# of Port Opened: 8\n",
      "# of Port Closed: 6\n",
      "\n",
      "\n",
      "# of Port Opened: 22\n",
      "# of Port Closed: 9\n",
      "\n",
      "\n",
      "# of Port Opened: 17\n",
      "# of Port Closed: 12\n",
      "\n",
      "\n",
      "# of Port Opened: 4\n",
      "# of Port Closed: 26\n",
      "\n",
      "\n",
      "# of Port Opened: 6\n",
      "# of Port Closed: 9\n",
      "\n",
      "\n",
      "# of Port Opened: 1\n",
      "# of Port Closed: 2\n",
      "\n",
      "\n",
      "# of Port Opened: 4\n",
      "# of Port Closed: 2\n",
      "\n",
      "\n",
      "# of Port Opened: 22\n",
      "# of Port Closed: 2\n",
      "\n",
      "\n",
      "# of Port Opened: 98\n",
      "# of Port Closed: 21\n",
      "\n",
      "\n",
      "# of Port Opened: 1\n",
      "# of Port Closed: 63\n",
      "\n",
      "\n",
      "# of Port Opened: 1\n",
      "# of Port Closed: 38\n",
      "\n",
      "\n",
      "# of Port Opened: 15\n",
      "# of Port Closed: 2\n",
      "\n",
      "\n",
      "# of Port Opened: 29\n",
      "# of Port Closed: 29\n",
      "\n",
      "\n",
      "# of Port Opened: 5\n",
      "# of Port Closed: 10\n",
      "\n",
      "\n",
      "# of Port Opened: 3\n",
      "# of Port Closed: 7\n",
      "\n",
      "\n",
      "# of Port Opened: 51\n",
      "# of Port Closed: 3\n",
      "\n",
      "\n"
     ]
    }
   ],
   "source": [
    "for i in range(len(inputByMilestone)):\n",
    "    print(\"# of Port Opened: \" + str(numOpenedList[i]))\n",
    "    print(\"# of Port Closed: \" + str(numClosedList[i]))\n",
    "    print(\"\\n\")"
   ]
  },
  {
   "cell_type": "code",
   "execution_count": 89,
   "metadata": {},
   "outputs": [
    {
     "data": {
      "text/plain": [
       "48"
      ]
     },
     "execution_count": 89,
     "metadata": {},
     "output_type": "execute_result"
    }
   ],
   "source": [
    "len(inputByMilestone)"
   ]
  },
  {
   "cell_type": "code",
   "execution_count": null,
   "metadata": {
    "collapsed": true
   },
   "outputs": [],
   "source": []
  }
 ],
 "metadata": {
  "kernelspec": {
   "display_name": "Python 2",
   "language": "python",
   "name": "python2"
  },
  "language_info": {
   "codemirror_mode": {
    "name": "ipython",
    "version": 2
   },
   "file_extension": ".py",
   "mimetype": "text/x-python",
   "name": "python",
   "nbconvert_exporter": "python",
   "pygments_lexer": "ipython2",
   "version": "2.7.13"
  }
 },
 "nbformat": 4,
 "nbformat_minor": 2
}
