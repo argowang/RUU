{
 "cells": [
  {
   "cell_type": "code",
   "execution_count": 16,
   "metadata": {
    "collapsed": true
   },
   "outputs": [],
   "source": [
    "import re\n",
    "import pandas as pd"
   ]
  },
  {
   "cell_type": "code",
   "execution_count": 17,
   "metadata": {
    "collapsed": true
   },
   "outputs": [],
   "source": [
    "LOG_DIR = \"../log_junyi_testing_2\""
   ]
  },
  {
   "cell_type": "code",
   "execution_count": 18,
   "metadata": {
    "collapsed": true
   },
   "outputs": [],
   "source": [
    "keyStrokeFile = open(LOG_DIR+\"/keyStroke.log\", \"r\")\n",
    "keyStrokeContent = keyStrokeFile.readlines()"
   ]
  },
  {
   "cell_type": "code",
   "execution_count": 19,
   "metadata": {
    "collapsed": true
   },
   "outputs": [],
   "source": [
    "# clean up the content\n",
    "keyStrokeContent = [line for line in keyStrokeContent if line != \"\\n\" and line != \"Keystrokes are now being recorded\\n\"]\n",
    "keyStrokeContentRaw = \"\".join(keyStrokeContent)"
   ]
  },
  {
   "cell_type": "code",
   "execution_count": 20,
   "metadata": {
    "collapsed": true
   },
   "outputs": [],
   "source": [
    "def splitByMilestone(inputList):    \n",
    "    copy = False\n",
    "    buffer = \"\"\n",
    "    splitByMilestone = []\n",
    "    for line in keyStrokeContent:\n",
    "        if \"---5min KeyLogger milestone\" in line:\n",
    "            copy = True\n",
    "            splitByMilestone.append(buffer)\n",
    "            buffer = \"\"\n",
    "        if copy:\n",
    "            buffer += line\n",
    "    return splitByMilestone"
   ]
  },
  {
   "cell_type": "code",
   "execution_count": 21,
   "metadata": {
    "collapsed": true
   },
   "outputs": [],
   "source": [
    "inputByMilestone = splitByMilestone(keyStrokeContent)"
   ]
  },
  {
   "cell_type": "code",
   "execution_count": 22,
   "metadata": {
    "collapsed": true
   },
   "outputs": [],
   "source": [
    "def countCmdTabCombo(input):\n",
    "    pattern = re.compile(\"\\[left-cmd\\]\\[tab\\]\")\n",
    "    count = len(pattern.findall(input))\n",
    "    return count"
   ]
  },
  {
   "cell_type": "code",
   "execution_count": 23,
   "metadata": {},
   "outputs": [
    {
     "name": "stdout",
     "output_type": "stream",
     "text": [
      "0\n"
     ]
    }
   ],
   "source": [
    "print countCmdTabCombo(inputByMilestone[1])"
   ]
  },
  {
   "cell_type": "code",
   "execution_count": 24,
   "metadata": {
    "collapsed": true
   },
   "outputs": [],
   "source": [
    "def countCmdNumber(input):\n",
    "    pattern = re.compile(\"\\[left-cmd\\]\")\n",
    "    count = len(pattern.findall(input))\n",
    "    return count"
   ]
  },
  {
   "cell_type": "code",
   "execution_count": 25,
   "metadata": {},
   "outputs": [
    {
     "name": "stdout",
     "output_type": "stream",
     "text": [
      "18\n"
     ]
    }
   ],
   "source": [
    "print countCmdNumber(inputByMilestone[1])"
   ]
  },
  {
   "cell_type": "code",
   "execution_count": 26,
   "metadata": {
    "collapsed": true
   },
   "outputs": [],
   "source": [
    "def calAverageTypingSpeed(input):\n",
    "    copy = False\n",
    "    buffer = \"\"\n",
    "    splitByMilestone = []\n",
    "    for line in input.split(\"\\n\")[1:]:\n",
    "        if \"***5s KeyLogger Milestone***\" in line:\n",
    "            copy = True\n",
    "            splitByMilestone.append(buffer)\n",
    "            buffer = \"\"\n",
    "            continue\n",
    "        if copy:\n",
    "            buffer += line\n",
    "    typingSpeed = []\n",
    "    for line in splitByMilestone:\n",
    "        if line == '':\n",
    "            continue\n",
    "        pattern = re.compile('\\[.*?\\]', re.IGNORECASE)\n",
    "        cleanedLine, commandNum = pattern.subn(\"\", line)\n",
    "        keyNum = len(cleanedLine) + commandNum\n",
    "        typingSpeed.append(keyNum * 1.0 / 5)\n",
    "    if len(typingSpeed) == 0:\n",
    "        return 0\n",
    "    return round(reduce(lambda x, y: x + y, typingSpeed) / len(typingSpeed), 2)"
   ]
  },
  {
   "cell_type": "code",
   "execution_count": 27,
   "metadata": {},
   "outputs": [
    {
     "name": "stdout",
     "output_type": "stream",
     "text": [
      "1.55\n"
     ]
    }
   ],
   "source": [
    "averageTypingSpeed = calAverageTypingSpeed(inputByMilestone[1])\n",
    "print averageTypingSpeed"
   ]
  },
  {
   "cell_type": "code",
   "execution_count": 28,
   "metadata": {},
   "outputs": [
    {
     "name": "stdout",
     "output_type": "stream",
     "text": [
      "\n",
      "# of CMD TAB COMBO: 0\n",
      "# of CMD: 0\n",
      "Average Typing Speed (key/second): 0\n",
      "\n",
      "\n",
      "---5min KeyLogger milestone--- 2018-12-03-13:10:53\n",
      "# of CMD TAB COMBO: 0\n",
      "# of CMD: 18\n",
      "Average Typing Speed (key/second): 1.55\n",
      "\n",
      "\n",
      "---5min KeyLogger milestone--- 2018-12-03-13:15:54\n",
      "# of CMD TAB COMBO: 1\n",
      "# of CMD: 20\n",
      "Average Typing Speed (key/second): 2.21\n",
      "\n",
      "\n",
      "---5min KeyLogger milestone--- 2018-12-03-13:20:54\n",
      "# of CMD TAB COMBO: 0\n",
      "# of CMD: 20\n",
      "Average Typing Speed (key/second): 2.1\n",
      "\n",
      "\n",
      "---5min KeyLogger milestone--- 2018-12-03-13:25:55\n",
      "# of CMD TAB COMBO: 1\n",
      "# of CMD: 44\n",
      "Average Typing Speed (key/second): 2.46\n",
      "\n",
      "\n",
      "---5min KeyLogger milestone--- 2018-12-03-13:30:55\n",
      "# of CMD TAB COMBO: 0\n",
      "# of CMD: 2\n",
      "Average Typing Speed (key/second): 0\n",
      "\n",
      "\n",
      "---5min KeyLogger milestone--- 2018-12-03-13:35:55\n",
      "# of CMD TAB COMBO: 0\n",
      "# of CMD: 0\n",
      "Average Typing Speed (key/second): 0\n",
      "\n",
      "\n",
      "---5min KeyLogger milestone--- 2018-12-03-13:40:56\n",
      "# of CMD TAB COMBO: 0\n",
      "# of CMD: 0\n",
      "Average Typing Speed (key/second): 0\n",
      "\n",
      "\n",
      "---5min KeyLogger milestone--- 2018-12-03-13:45:56\n",
      "# of CMD TAB COMBO: 0\n",
      "# of CMD: 0\n",
      "Average Typing Speed (key/second): 0\n",
      "\n",
      "\n",
      "---5min KeyLogger milestone--- 2018-12-03-13:50:56\n",
      "# of CMD TAB COMBO: 0\n",
      "# of CMD: 0\n",
      "Average Typing Speed (key/second): 0\n",
      "\n",
      "\n",
      "---5min KeyLogger milestone--- 2018-12-03-13:55:57\n",
      "# of CMD TAB COMBO: 0\n",
      "# of CMD: 0\n",
      "Average Typing Speed (key/second): 0\n",
      "\n",
      "\n",
      "---5min KeyLogger milestone--- 2018-12-03-14:00:57\n",
      "# of CMD TAB COMBO: 0\n",
      "# of CMD: 0\n",
      "Average Typing Speed (key/second): 0\n",
      "\n",
      "\n",
      "---5min KeyLogger milestone--- 2018-12-03-14:05:57\n",
      "# of CMD TAB COMBO: 0\n",
      "# of CMD: 0\n",
      "Average Typing Speed (key/second): 0\n",
      "\n",
      "\n",
      "---5min KeyLogger milestone--- 2018-12-03-14:10:58\n",
      "# of CMD TAB COMBO: 0\n",
      "# of CMD: 0\n",
      "Average Typing Speed (key/second): 5.5\n",
      "\n",
      "\n",
      "---5min KeyLogger milestone--- 2018-12-03-14:15:58\n",
      "# of CMD TAB COMBO: 0\n",
      "# of CMD: 0\n",
      "Average Typing Speed (key/second): 3.6\n",
      "\n",
      "\n",
      "---5min KeyLogger milestone--- 2018-12-03-14:20:58\n",
      "# of CMD TAB COMBO: 0\n",
      "# of CMD: 0\n",
      "Average Typing Speed (key/second): 0\n",
      "\n",
      "\n",
      "---5min KeyLogger milestone--- 2018-12-03-14:25:59\n",
      "# of CMD TAB COMBO: 0\n",
      "# of CMD: 0\n",
      "Average Typing Speed (key/second): 0\n",
      "\n",
      "\n",
      "---5min KeyLogger milestone--- 2018-12-03-14:30:59\n",
      "# of CMD TAB COMBO: 0\n",
      "# of CMD: 0\n",
      "Average Typing Speed (key/second): 0\n",
      "\n",
      "\n",
      "---5min KeyLogger milestone--- 2018-12-03-14:35:59\n",
      "# of CMD TAB COMBO: 0\n",
      "# of CMD: 16\n",
      "Average Typing Speed (key/second): 1.51\n",
      "\n",
      "\n",
      "---5min KeyLogger milestone--- 2018-12-03-14:41:00\n",
      "# of CMD TAB COMBO: 2\n",
      "# of CMD: 16\n",
      "Average Typing Speed (key/second): 1.17\n",
      "\n",
      "\n",
      "---5min KeyLogger milestone--- 2018-12-03-14:45:30\n",
      "# of CMD TAB COMBO: 1\n",
      "# of CMD: 28\n",
      "Average Typing Speed (key/second): 1.19\n",
      "\n",
      "\n",
      "---5min KeyLogger milestone--- 2018-12-03-14:50:30\n",
      "# of CMD TAB COMBO: 0\n",
      "# of CMD: 2\n",
      "Average Typing Speed (key/second): 3.2\n",
      "\n",
      "\n",
      "---5min KeyLogger milestone--- 2018-12-03-14:55:30\n",
      "# of CMD TAB COMBO: 1\n",
      "# of CMD: 16\n",
      "Average Typing Speed (key/second): 1.46\n",
      "\n",
      "\n",
      "---5min KeyLogger milestone--- 2018-12-03-15:00:31\n",
      "# of CMD TAB COMBO: 2\n",
      "# of CMD: 44\n",
      "Average Typing Speed (key/second): 2.66\n",
      "\n",
      "\n",
      "---5min KeyLogger milestone--- 2018-12-03-15:05:31\n",
      "# of CMD TAB COMBO: 7\n",
      "# of CMD: 38\n",
      "Average Typing Speed (key/second): 3.13\n",
      "\n",
      "\n",
      "---5min KeyLogger milestone--- 2018-12-03-15:10:32\n",
      "# of CMD TAB COMBO: 4\n",
      "# of CMD: 26\n",
      "Average Typing Speed (key/second): 1.1\n",
      "\n",
      "\n",
      "---5min KeyLogger milestone--- 2018-12-03-15:15:32\n",
      "# of CMD TAB COMBO: 1\n",
      "# of CMD: 52\n",
      "Average Typing Speed (key/second): 1.83\n",
      "\n",
      "\n",
      "---5min KeyLogger milestone--- 2018-12-03-15:20:32\n",
      "# of CMD TAB COMBO: 0\n",
      "# of CMD: 32\n",
      "Average Typing Speed (key/second): 1.27\n",
      "\n",
      "\n",
      "---5min KeyLogger milestone--- 2018-12-03-15:25:33\n",
      "# of CMD TAB COMBO: 0\n",
      "# of CMD: 20\n",
      "Average Typing Speed (key/second): 2.23\n",
      "\n",
      "\n",
      "---5min KeyLogger milestone--- 2018-12-03-15:30:33\n",
      "# of CMD TAB COMBO: 0\n",
      "# of CMD: 28\n",
      "Average Typing Speed (key/second): 2.03\n",
      "\n",
      "\n",
      "---5min KeyLogger milestone--- 2018-12-03-15:35:33\n",
      "# of CMD TAB COMBO: 3\n",
      "# of CMD: 48\n",
      "Average Typing Speed (key/second): 1.98\n",
      "\n",
      "\n",
      "---5min KeyLogger milestone--- 2018-12-03-15:40:34\n",
      "# of CMD TAB COMBO: 7\n",
      "# of CMD: 40\n",
      "Average Typing Speed (key/second): 1.69\n",
      "\n",
      "\n",
      "---5min KeyLogger milestone--- 2018-12-03-15:45:34\n",
      "# of CMD TAB COMBO: 0\n",
      "# of CMD: 6\n",
      "Average Typing Speed (key/second): 1.23\n",
      "\n",
      "\n",
      "---5min KeyLogger milestone--- 2018-12-03-15:50:34\n",
      "# of CMD TAB COMBO: 0\n",
      "# of CMD: 4\n",
      "Average Typing Speed (key/second): 0.96\n",
      "\n",
      "\n",
      "---5min KeyLogger milestone--- 2018-12-03-15:55:35\n",
      "# of CMD TAB COMBO: 4\n",
      "# of CMD: 64\n",
      "Average Typing Speed (key/second): 1.91\n",
      "\n",
      "\n",
      "---5min KeyLogger milestone--- 2018-12-03-16:00:35\n",
      "# of CMD TAB COMBO: 2\n",
      "# of CMD: 32\n",
      "Average Typing Speed (key/second): 2.41\n",
      "\n",
      "\n",
      "---5min KeyLogger milestone--- 2018-12-03-16:05:36\n",
      "# of CMD TAB COMBO: 0\n",
      "# of CMD: 6\n",
      "Average Typing Speed (key/second): 2.07\n",
      "\n",
      "\n",
      "---5min KeyLogger milestone--- 2018-12-03-16:10:36\n",
      "# of CMD TAB COMBO: 4\n",
      "# of CMD: 34\n",
      "Average Typing Speed (key/second): 1.85\n",
      "\n",
      "\n",
      "---5min KeyLogger milestone--- 2018-12-03-16:15:37\n",
      "# of CMD TAB COMBO: 0\n",
      "# of CMD: 36\n",
      "Average Typing Speed (key/second): 2.0\n",
      "\n",
      "\n",
      "---5min KeyLogger milestone--- 2018-12-03-16:20:37\n",
      "# of CMD TAB COMBO: 2\n",
      "# of CMD: 36\n",
      "Average Typing Speed (key/second): 1.67\n",
      "\n",
      "\n",
      "---5min KeyLogger milestone--- 2018-12-03-16:25:37\n",
      "# of CMD TAB COMBO: 0\n",
      "# of CMD: 58\n",
      "Average Typing Speed (key/second): 1.73\n",
      "\n",
      "\n",
      "---5min KeyLogger milestone--- 2018-12-03-16:30:38\n",
      "# of CMD TAB COMBO: 0\n",
      "# of CMD: 4\n",
      "Average Typing Speed (key/second): 1.4\n",
      "\n",
      "\n",
      "---5min KeyLogger milestone--- 2018-12-03-16:35:38\n",
      "# of CMD TAB COMBO: 0\n",
      "# of CMD: 16\n",
      "Average Typing Speed (key/second): 0.8\n",
      "\n",
      "\n"
     ]
    }
   ],
   "source": [
    "cmdTabComboList = []\n",
    "cmdNumberList = []\n",
    "typingSpeedList = []\n",
    "for interval in inputByMilestone:\n",
    "    print interval.split(\"\\n\")[0]\n",
    "    cmdTabComboList.append(countCmdTabCombo(interval))\n",
    "    print \"# of CMD TAB COMBO: \" + str(countCmdTabCombo(interval))\n",
    "    cmdNumberList.append(countCmdNumber(interval))\n",
    "    print \"# of CMD: \" + str(countCmdNumber(interval))\n",
    "    typingSpeedList.append(calAverageTypingSpeed(interval))\n",
    "    print \"Average Typing Speed (key/second): \" + str(calAverageTypingSpeed(interval)) \n",
    "    print \"\\n\"\n",
    "    "
   ]
  },
  {
   "cell_type": "code",
   "execution_count": 29,
   "metadata": {},
   "outputs": [
    {
     "data": {
      "text/plain": [
       "43"
      ]
     },
     "execution_count": 29,
     "metadata": {},
     "output_type": "execute_result"
    }
   ],
   "source": [
    "len(inputByMilestone)"
   ]
  },
  {
   "cell_type": "code",
   "execution_count": 30,
   "metadata": {
    "collapsed": true
   },
   "outputs": [],
   "source": [
    "df1 = pd.DataFrame(cmdTabComboList, columns=['Num of cmd tab combo'])\n",
    "df1.to_csv(\"cmd_tab_combo_monitor.csv\", index=False, sep=' ')\n",
    "df2 = pd.DataFrame(cmdNumberList, columns=['Num of cmd'])\n",
    "df2.to_csv(\"cmd_number_monitor.csv\", index=False, sep=' ')\n",
    "df3 = pd.DataFrame(typingSpeedList, columns=['Average Typing Speed'])\n",
    "df3.to_csv(\"typing_speed_monitor.csv\", index=False, sep=' ')"
   ]
  },
  {
   "cell_type": "code",
   "execution_count": null,
   "metadata": {
    "collapsed": true
   },
   "outputs": [],
   "source": []
  }
 ],
 "metadata": {
  "kernelspec": {
   "display_name": "Python 2",
   "language": "python",
   "name": "python2"
  },
  "language_info": {
   "codemirror_mode": {
    "name": "ipython",
    "version": 2
   },
   "file_extension": ".py",
   "mimetype": "text/x-python",
   "name": "python",
   "nbconvert_exporter": "python",
   "pygments_lexer": "ipython2",
   "version": "2.7.13"
  }
 },
 "nbformat": 4,
 "nbformat_minor": 2
}
