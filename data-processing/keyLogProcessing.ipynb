{
 "cells": [
  {
   "cell_type": "code",
   "execution_count": 140,
   "metadata": {
    "collapsed": true
   },
   "outputs": [],
   "source": [
    "import re"
   ]
  },
  {
   "cell_type": "code",
   "execution_count": 141,
   "metadata": {
    "collapsed": true
   },
   "outputs": [],
   "source": [
    "LOG_DIR = \"../log_backup\""
   ]
  },
  {
   "cell_type": "code",
   "execution_count": 142,
   "metadata": {
    "collapsed": true
   },
   "outputs": [],
   "source": [
    "keyStrokeFile = open(LOG_DIR+\"/keyStroke.txt\", \"r\")\n",
    "keyStrokeContent = keyStrokeFile.readlines()"
   ]
  },
  {
   "cell_type": "code",
   "execution_count": 143,
   "metadata": {},
   "outputs": [],
   "source": [
    "# clean up the content\n",
    "keyStrokeContent = [line for line in keyStrokeContent if line != \"\\n\" and line != \"Keystrokes are now being recorded\\n\"]\n",
    "keyStrokeContentRaw = \"\".join(keyStrokeContent)"
   ]
  },
  {
   "cell_type": "code",
   "execution_count": 144,
   "metadata": {
    "collapsed": true
   },
   "outputs": [],
   "source": [
    "def splitByMilestone(inputList):    \n",
    "    copy = False\n",
    "    buffer = \"\"\n",
    "    splitByMilestone = []\n",
    "    for line in keyStrokeContent:\n",
    "        if \"---5min KeyLogger milestone\" in line:\n",
    "            copy = True\n",
    "            splitByMilestone.append(buffer)\n",
    "            buffer = \"\"\n",
    "        if copy:\n",
    "            buffer += line\n",
    "    splitByMilestone = splitByMilestone[1:]\n",
    "    return splitByMilestone"
   ]
  },
  {
   "cell_type": "code",
   "execution_count": 145,
   "metadata": {},
   "outputs": [],
   "source": [
    "inputByMilestone = splitByMilestone(keyStrokeContent)"
   ]
  },
  {
   "cell_type": "code",
   "execution_count": 146,
   "metadata": {
    "collapsed": true
   },
   "outputs": [],
   "source": [
    "def countCmdTabCombo(input):\n",
    "    pattern = re.compile(\"\\[left-cmd\\]\\[tab\\]\")\n",
    "    count = len(pattern.findall(input))\n",
    "    return count"
   ]
  },
  {
   "cell_type": "code",
   "execution_count": 147,
   "metadata": {},
   "outputs": [
    {
     "name": "stdout",
     "output_type": "stream",
     "text": [
      "7\n"
     ]
    }
   ],
   "source": [
    "print countCmdTabCombo(inputByMilestone[1])"
   ]
  },
  {
   "cell_type": "code",
   "execution_count": 148,
   "metadata": {
    "collapsed": true
   },
   "outputs": [],
   "source": [
    "def countCmdNumber(input):\n",
    "    pattern = re.compile(\"\\[left-cmd\\]\")\n",
    "    count = len(pattern.findall(input))\n",
    "    return count"
   ]
  },
  {
   "cell_type": "code",
   "execution_count": 149,
   "metadata": {},
   "outputs": [
    {
     "name": "stdout",
     "output_type": "stream",
     "text": [
      "26\n"
     ]
    }
   ],
   "source": [
    "print countCmdNumber(inputByMilestone[1])"
   ]
  },
  {
   "cell_type": "code",
   "execution_count": 150,
   "metadata": {
    "collapsed": true
   },
   "outputs": [],
   "source": [
    "def calAverageTypingSpeed(input):\n",
    "    copy = False\n",
    "    buffer = \"\"\n",
    "    splitByMilestone = []\n",
    "    for line in input.split(\"\\n\"):\n",
    "        if \"***5s KeyLogger Milestone***\" in line:\n",
    "            copy = True\n",
    "            splitByMilestone.append(buffer)\n",
    "            buffer = \"\"\n",
    "            continue\n",
    "        if copy:\n",
    "            buffer += line\n",
    "    typingSpeed = []\n",
    "    for line in splitByMilestone:\n",
    "        if line == '':\n",
    "            continue\n",
    "        pattern = re.compile('\\[.*?\\]', re.IGNORECASE)\n",
    "        cleanedLine, commandNum = pattern.subn(\"\", line)\n",
    "        keyNum = len(cleanedLine) + commandNum\n",
    "        typingSpeed.append(keyNum * 1.0 / 5)\n",
    "    if len(typingSpeed) == 0:\n",
    "        return 0\n",
    "    return round(reduce(lambda x, y: x + y, typingSpeed) / len(typingSpeed), 2)"
   ]
  },
  {
   "cell_type": "code",
   "execution_count": 151,
   "metadata": {},
   "outputs": [
    {
     "name": "stdout",
     "output_type": "stream",
     "text": [
      "2.25\n"
     ]
    }
   ],
   "source": [
    "averageTypingSpeed = calAverageTypingSpeed(inputByMilestone[0])\n",
    "print averageTypingSpeed"
   ]
  },
  {
   "cell_type": "code",
   "execution_count": 152,
   "metadata": {},
   "outputs": [
    {
     "name": "stdout",
     "output_type": "stream",
     "text": [
      "---5min KeyLogger milestone--- 2018-11-29-22:55:57\n",
      "# of CMD TAB COMBO: 0\n",
      "# of CMD: 24\n",
      "Average Typing Speed (key/second): 2.25\n",
      "\n",
      "\n",
      "---5min KeyLogger milestone--- 2018-11-29-23:00:58\n",
      "# of CMD TAB COMBO: 7\n",
      "# of CMD: 26\n",
      "Average Typing Speed (key/second): 3.5\n",
      "\n",
      "\n",
      "---5min KeyLogger milestone--- 2018-11-29-23:05:58\n",
      "# of CMD TAB COMBO: 4\n",
      "# of CMD: 36\n",
      "Average Typing Speed (key/second): 2.91\n",
      "\n",
      "\n",
      "---5min KeyLogger milestone--- 2018-11-29-23:10:58\n",
      "# of CMD TAB COMBO: 0\n",
      "# of CMD: 10\n",
      "Average Typing Speed (key/second): 1.36\n",
      "\n",
      "\n",
      "---5min KeyLogger milestone--- 2018-11-29-23:15:59\n",
      "# of CMD TAB COMBO: 0\n",
      "# of CMD: 0\n",
      "Average Typing Speed (key/second): 1.2\n",
      "\n",
      "\n",
      "---5min KeyLogger milestone--- 2018-11-29-23:20:59\n",
      "# of CMD TAB COMBO: 2\n",
      "# of CMD: 8\n",
      "Average Typing Speed (key/second): 1.91\n",
      "\n",
      "\n",
      "---5min KeyLogger milestone--- 2018-11-29-23:25:59\n",
      "# of CMD TAB COMBO: 1\n",
      "# of CMD: 12\n",
      "Average Typing Speed (key/second): 1.58\n",
      "\n",
      "\n",
      "---5min KeyLogger milestone--- 2018-11-29-23:31:00\n",
      "# of CMD TAB COMBO: 0\n",
      "# of CMD: 22\n",
      "Average Typing Speed (key/second): 2.11\n",
      "\n",
      "\n",
      "---5min KeyLogger milestone--- 2018-11-29-23:36:00\n",
      "# of CMD TAB COMBO: 1\n",
      "# of CMD: 10\n",
      "Average Typing Speed (key/second): 2.15\n",
      "\n",
      "\n",
      "---5min KeyLogger milestone--- 2018-11-29-23:41:01\n",
      "# of CMD TAB COMBO: 0\n",
      "# of CMD: 6\n",
      "Average Typing Speed (key/second): 2.0\n",
      "\n",
      "\n",
      "---5min KeyLogger milestone--- 2018-11-29-23:46:01\n",
      "# of CMD TAB COMBO: 0\n",
      "# of CMD: 10\n",
      "Average Typing Speed (key/second): 1.04\n",
      "\n",
      "\n",
      "---5min KeyLogger milestone--- 2018-11-30-13:08:35\n",
      "# of CMD TAB COMBO: 3\n",
      "# of CMD: 14\n",
      "Average Typing Speed (key/second): 2.58\n",
      "\n",
      "\n",
      "---5min KeyLogger milestone--- 2018-11-30-13:13:35\n",
      "# of CMD TAB COMBO: 1\n",
      "# of CMD: 8\n",
      "Average Typing Speed (key/second): 2.58\n",
      "\n",
      "\n",
      "---5min KeyLogger milestone--- 2018-11-30-13:18:35\n",
      "# of CMD TAB COMBO: 0\n",
      "# of CMD: 0\n",
      "Average Typing Speed (key/second): 0\n",
      "\n",
      "\n",
      "---5min KeyLogger milestone--- 2018-11-30-13:23:36\n",
      "# of CMD TAB COMBO: 0\n",
      "# of CMD: 0\n",
      "Average Typing Speed (key/second): 0\n",
      "\n",
      "\n",
      "---5min KeyLogger milestone--- 2018-11-30-13:28:36\n",
      "# of CMD TAB COMBO: 0\n",
      "# of CMD: 0\n",
      "Average Typing Speed (key/second): 0\n",
      "\n",
      "\n",
      "---5min KeyLogger milestone--- 2018-11-30-13:33:37\n",
      "# of CMD TAB COMBO: 0\n",
      "# of CMD: 0\n",
      "Average Typing Speed (key/second): 0\n",
      "\n",
      "\n",
      "---5min KeyLogger milestone--- 2018-11-30-13:38:37\n",
      "# of CMD TAB COMBO: 0\n",
      "# of CMD: 0\n",
      "Average Typing Speed (key/second): 0\n",
      "\n",
      "\n",
      "---5min KeyLogger milestone--- 2018-11-30-13:43:38\n",
      "# of CMD TAB COMBO: 0\n",
      "# of CMD: 2\n",
      "Average Typing Speed (key/second): 2.1\n",
      "\n",
      "\n",
      "---5min KeyLogger milestone--- 2018-11-30-13:48:38\n",
      "# of CMD TAB COMBO: 0\n",
      "# of CMD: 0\n",
      "Average Typing Speed (key/second): 0\n",
      "\n",
      "\n",
      "---5min KeyLogger milestone--- 2018-11-30-13:53:38\n",
      "# of CMD TAB COMBO: 0\n",
      "# of CMD: 0\n",
      "Average Typing Speed (key/second): 0\n",
      "\n",
      "\n",
      "---5min KeyLogger milestone--- 2018-11-30-13:58:39\n",
      "# of CMD TAB COMBO: 0\n",
      "# of CMD: 0\n",
      "Average Typing Speed (key/second): 0\n",
      "\n",
      "\n",
      "---5min KeyLogger milestone--- 2018-11-30-14:03:39\n",
      "# of CMD TAB COMBO: 5\n",
      "# of CMD: 16\n",
      "Average Typing Speed (key/second): 2.89\n",
      "\n",
      "\n",
      "---5min KeyLogger milestone--- 2018-11-30-14:08:39\n",
      "# of CMD TAB COMBO: 13\n",
      "# of CMD: 50\n",
      "Average Typing Speed (key/second): 2.18\n",
      "\n",
      "\n",
      "---5min KeyLogger milestone--- 2018-11-30-14:13:39\n",
      "# of CMD TAB COMBO: 0\n",
      "# of CMD: 0\n",
      "Average Typing Speed (key/second): 0\n",
      "\n",
      "\n",
      "---5min KeyLogger milestone--- 2018-11-30-14:18:40\n",
      "# of CMD TAB COMBO: 0\n",
      "# of CMD: 0\n",
      "Average Typing Speed (key/second): 0\n",
      "\n",
      "\n",
      "---5min KeyLogger milestone--- 2018-11-30-14:23:40\n",
      "# of CMD TAB COMBO: 0\n",
      "# of CMD: 0\n",
      "Average Typing Speed (key/second): 0\n",
      "\n",
      "\n",
      "---5min KeyLogger milestone--- 2018-11-30-14:28:40\n",
      "# of CMD TAB COMBO: 0\n",
      "# of CMD: 0\n",
      "Average Typing Speed (key/second): 0\n",
      "\n",
      "\n",
      "---5min KeyLogger milestone--- 2018-11-30-14:33:41\n",
      "# of CMD TAB COMBO: 0\n",
      "# of CMD: 0\n",
      "Average Typing Speed (key/second): 0\n",
      "\n",
      "\n",
      "---5min KeyLogger milestone--- 2018-11-30-14:38:41\n",
      "# of CMD TAB COMBO: 0\n",
      "# of CMD: 6\n",
      "Average Typing Speed (key/second): 1.8\n",
      "\n",
      "\n",
      "---5min KeyLogger milestone--- 2018-11-30-14:43:41\n",
      "# of CMD TAB COMBO: 1\n",
      "# of CMD: 6\n",
      "Average Typing Speed (key/second): 1.1\n",
      "\n",
      "\n",
      "---5min KeyLogger milestone--- 2018-11-30-14:48:42\n",
      "# of CMD TAB COMBO: 0\n",
      "# of CMD: 0\n",
      "Average Typing Speed (key/second): 0\n",
      "\n",
      "\n",
      "---5min KeyLogger milestone--- 2018-11-30-14:53:42\n",
      "# of CMD TAB COMBO: 0\n",
      "# of CMD: 8\n",
      "Average Typing Speed (key/second): 1.7\n",
      "\n",
      "\n",
      "---5min KeyLogger milestone--- 2018-11-30-14:58:42\n",
      "# of CMD TAB COMBO: 1\n",
      "# of CMD: 10\n",
      "Average Typing Speed (key/second): 3.51\n",
      "\n",
      "\n",
      "---5min KeyLogger milestone--- 2018-11-30-15:03:43\n",
      "# of CMD TAB COMBO: 0\n",
      "# of CMD: 0\n",
      "Average Typing Speed (key/second): 0\n",
      "\n",
      "\n",
      "---5min KeyLogger milestone--- 2018-11-30-15:08:43\n",
      "# of CMD TAB COMBO: 0\n",
      "# of CMD: 0\n",
      "Average Typing Speed (key/second): 0\n",
      "\n",
      "\n",
      "---5min KeyLogger milestone--- 2018-11-30-15:13:43\n",
      "# of CMD TAB COMBO: 0\n",
      "# of CMD: 0\n",
      "Average Typing Speed (key/second): 0\n",
      "\n",
      "\n",
      "---5min KeyLogger milestone--- 2018-11-30-15:18:44\n",
      "# of CMD TAB COMBO: 0\n",
      "# of CMD: 2\n",
      "Average Typing Speed (key/second): 2.4\n",
      "\n",
      "\n",
      "---5min KeyLogger milestone--- 2018-11-30-15:23:44\n",
      "# of CMD TAB COMBO: 0\n",
      "# of CMD: 2\n",
      "Average Typing Speed (key/second): 4.07\n",
      "\n",
      "\n",
      "---5min KeyLogger milestone--- 2018-11-30-15:28:44\n",
      "# of CMD TAB COMBO: 0\n",
      "# of CMD: 8\n",
      "Average Typing Speed (key/second): 2.06\n",
      "\n",
      "\n",
      "---5min KeyLogger milestone--- 2018-11-30-15:33:45\n",
      "# of CMD TAB COMBO: 1\n",
      "# of CMD: 8\n",
      "Average Typing Speed (key/second): 3.38\n",
      "\n",
      "\n",
      "---5min KeyLogger milestone--- 2018-11-30-15:38:45\n",
      "# of CMD TAB COMBO: 0\n",
      "# of CMD: 20\n",
      "Average Typing Speed (key/second): 1.54\n",
      "\n",
      "\n",
      "---5min KeyLogger milestone--- 2018-11-30-15:43:45\n",
      "# of CMD TAB COMBO: 0\n",
      "# of CMD: 12\n",
      "Average Typing Speed (key/second): 0.95\n",
      "\n",
      "\n",
      "---5min KeyLogger milestone--- 2018-11-30-15:48:46\n",
      "# of CMD TAB COMBO: 0\n",
      "# of CMD: 0\n",
      "Average Typing Speed (key/second): 0.4\n",
      "\n",
      "\n",
      "---5min KeyLogger milestone--- 2018-11-30-17:54:05\n",
      "# of CMD TAB COMBO: 0\n",
      "# of CMD: 0\n",
      "Average Typing Speed (key/second): 0\n",
      "\n",
      "\n",
      "---5min KeyLogger milestone--- 2018-11-30-17:59:05\n",
      "# of CMD TAB COMBO: 0\n",
      "# of CMD: 0\n",
      "Average Typing Speed (key/second): 0\n",
      "\n",
      "\n",
      "---5min KeyLogger milestone--- 2018-11-30-18:04:06\n",
      "# of CMD TAB COMBO: 0\n",
      "# of CMD: 2\n",
      "Average Typing Speed (key/second): 1.71\n",
      "\n",
      "\n"
     ]
    }
   ],
   "source": [
    "for interval in inputByMilestone:\n",
    "    print interval.split(\"\\n\")[0]\n",
    "    print \"# of CMD TAB COMBO: \" + str(countCmdTabCombo(interval))\n",
    "    print \"# of CMD: \" + str(countCmdNumber(interval))\n",
    "    print \"Average Typing Speed (key/second): \" + str(calAverageTypingSpeed(interval)) \n",
    "    print \"\\n\"\n",
    "    "
   ]
  },
  {
   "cell_type": "code",
   "execution_count": null,
   "metadata": {
    "collapsed": true
   },
   "outputs": [],
   "source": []
  }
 ],
 "metadata": {
  "kernelspec": {
   "display_name": "Python 2",
   "language": "python",
   "name": "python2"
  },
  "language_info": {
   "codemirror_mode": {
    "name": "ipython",
    "version": 2
   },
   "file_extension": ".py",
   "mimetype": "text/x-python",
   "name": "python",
   "nbconvert_exporter": "python",
   "pygments_lexer": "ipython2",
   "version": "2.7.13"
  }
 },
 "nbformat": 4,
 "nbformat_minor": 2
}
