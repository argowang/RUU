{
 "cells": [
  {
   "cell_type": "code",
   "execution_count": 10,
   "metadata": {
    "collapsed": true
   },
   "outputs": [],
   "source": [
    "import pandas as pd\n",
    "LOG_DIR = \"../log_junyi_testing_2\""
   ]
  },
  {
   "cell_type": "code",
   "execution_count": 11,
   "metadata": {
    "collapsed": true
   },
   "outputs": [],
   "source": [
    "processFile = open(LOG_DIR+\"/processLog.txt\", \"r\")\n",
    "processContent = processFile.readlines()"
   ]
  },
  {
   "cell_type": "code",
   "execution_count": 12,
   "metadata": {},
   "outputs": [
    {
     "name": "stdout",
     "output_type": "stream",
     "text": [
      "1543860653.62 2018-12-03-18:10:53 73469 73468 73467 73466 73465 73464 73463 73462 73461 73460 73459 73458 73456 73455 73450 73449 73448 73310 73283 73282 73229 73011 73010 73009 73005 72987 72966 72934 72933 72915 72910 72783 72756 72714 72709 72690 72689 72655 72654 72647 72641 72432 72366 72365 72345 71266 70714 70707 70704 70631 70623 70585 70545 69848 66575 66569 66568 66565 66226 66177 65882 65700 65298 64954 60781 60775 60774 60773 60770 60737 60720 60643 60339 59587 59586 59585 59582 59499 59122 59120 58990 55189 55188 54782 54715 54690 54645 51155 51042 50619 50598 48304 48303 48302 48301 47693 47037 47034 44188 34490 34489 34488 34075 30637 30635 30126 30125 30124 30089 30079 30074 30049 28922 28917 28860 28801 27859 27858 27857 27854 27840 27835 26915 25755 23713 23646 23579 23578 23575 23560 23559 23556 23506 23419 23413 23412 23404 23366 23342 23341 23319 22643 21692 20524 20523 20517 20514 20505 20504 20503 20502 20500 20493 20492 20490 20488 20486 20484 20376 20369 20368 20367 20366 20195 19491 19481 19480 16212 15711 15709 15708 12047 12038 12037 12036 12033 12032 12031 12030 12023 12022 12020 12019 12018 12002 12000 8822 4289 3701 3700 3699 3698 3667 3665 3435 3398 3397 3395 3393 3392 3391 3389 3388 3387 3169 3098 3057 3056 3037 3032 2968 2952 2928 2927 2926 2924 2923 2918 2917 2912 2909 2907 2901 2900 2898 2859 2854 2852 2850 2847 2846 2841 2834 2823 2821 2820 2815 2814 2809 2806 2798 2797 2796 2794 2791 2789 2787 2784 2774 2766 2662 2648 2629 2621 2593 2592 2396 2321 2288 2272 2268 2264 2263 2259 2258 2257 2255 2254 2249 2248 2246 2243 2241 2237 1967 1966 1965 1157 1146 777 763 762 761 760 759 634 617 544 503 502 499 498 496 495 494 493 492 475 471 470 469 468 466 465 458 443 440 438 430 429 428 424 420 417 414 413 412 410 409 406 405 398 397 396 395 394 393 392 391 389 386 385 384 383 382 381 380 379 378 377 375 374 371 370 369 367 366 364 360 359 358 356 355 354 353 352 347 346 344 343 340 339 338 337 336 335 334 332 331 330 329 328 327 324 323 322 321 320 319 318 315 314 312 310 309 308 307 306 305 304 303 302 301 300 299 298 296 294 293 291 289 288 287 286 285 284 282 275 271 268 267 259 256 254 252 251 250 241 240 239 237 236 235 234 229 227 226 225 224 223 222 221 220 219 218 194 193 192 191 190 188 187 181 174 173 171 166 162 158 156 155 149 148 146 140 125 116 115 114 113 111 110 108 107 106 105 101 99 98 96 94 93 92 91 90 89 88 87 83 82 79 78 77 71 70 67 66 65 63 62 58 57 55 54 53 50 49 1 0 30118\n",
      "\n",
      "1543860954.07 2018-12-03-18:15:54 73552 73551 73495 73486 73485 73476 73475 73469 73468 73466 73465 73464 73463 73461 73460 73459 73458 73456 73455 73448 73283 73282 73229 73009 73005 72987 72934 72933 72915 72910 72756 72714 72689 72655 72654 72647 72641 72432 72366 72365 72345 71266 70714 70707 70704 70623 70585 70545 69848 66575 66569 66568 66565 66226 66177 65882 65700 65298 64954 60781 60775 60774 60773 60770 60737 60720 60643 59587 59586 59585 59582 59499 59122 59120 58990 55189 55188 54782 54715 54690 54645 51155 51042 50619 50598 48304 48303 48302 48301 47693 47037 47034 44188 34490 34489 34488 34075 30637 30635 30126 30125 30124 30089 30079 30074 30049 28922 28917 28860 28801 27859 27858 27857 27854 27840 27835 26915 25755 23713 23646 23579 23578 23575 23560 23559 23556 23506 23419 23413 23412 23404 23366 23342 23341 23319 22643 21692 20524 20523 20517 20514 20505 20504 20503 20502 20500 20493 20492 20490 20488 20486 20484 20376 20369 20368 20367 20366 20195 19491 19481 19480 16212 15711 15709 15708 12047 12038 12037 12036 12033 12032 12031 12030 12023 12022 12020 12019 12018 12002 12000 8822 4289 3701 3700 3699 3698 3667 3665 3435 3398 3397 3395 3393 3392 3391 3389 3388 3387 3169 3098 3057 3056 3037 3032 2968 2952 2928 2927 2926 2924 2923 2918 2917 2912 2909 2907 2901 2900 2898 2859 2854 2852 2850 2847 2846 2841 2834 2823 2821 2820 2815 2814 2809 2806 2798 2797 2796 2794 2791 2789 2787 2784 2774 2766 2662 2648 2629 2621 2593 2592 2396 2321 2288 2272 2268 2264 2263 2259 2258 2257 2255 2254 2249 2248 2246 2243 2241 2237 1967 1966 1965 1157 1146 777 763 762 761 760 759 634 617 544 503 502 499 498 496 495 494 493 492 475 471 470 469 468 466 465 458 443 440 438 430 429 428 424 420 417 414 413 412 410 409 406 405 398 397 396 395 394 393 392 391 389 386 385 384 383 382 381 380 379 378 377 375 374 371 370 369 367 366 364 360 359 358 356 355 354 353 352 347 346 344 343 340 339 338 337 336 335 334 332 331 330 329 328 327 324 323 322 321 320 319 318 315 314 312 310 309 308 307 306 305 304 303 302 301 300 299 298 296 294 293 291 289 288 287 286 285 284 282 275 271 268 267 259 256 254 252 251 250 241 240 239 237 236 235 234 229 227 226 225 224 223 222 221 220 219 218 194 193 192 191 190 188 187 181 174 173 171 166 162 158 156 155 149 148 146 140 125 116 115 114 113 111 110 108 107 106 105 101 99 98 96 94 93 92 91 90 89 88 87 83 82 79 78 77 71 70 67 66 65 63 62 58 57 55 54 53 50 49 1 0 30118\n",
      "\n"
     ]
    }
   ],
   "source": [
    "print processContent[0]\n",
    "print processContent[1]"
   ]
  },
  {
   "cell_type": "code",
   "execution_count": 13,
   "metadata": {
    "collapsed": true
   },
   "outputs": [],
   "source": [
    "def calProcessChange(line1, line2):\n",
    "    line1Process = line1.split(\" \")[2:-1]\n",
    "    line1Set = set(line1Process)\n",
    "    line1Size = len(line1Set)\n",
    "\n",
    "    \n",
    "    line2Process = line2.split(\" \")[2:-1]\n",
    "    line2Set = set(line2Process)\n",
    "    line2Size = len(line2Set)\n",
    "    \n",
    "    intersectSet = line1Set.intersection(line2Set)\n",
    "    unionSet = line1Set.union(line2Set)\n",
    "    \n",
    "    numOfProcessOpened = len(unionSet) - line1Size\n",
    "    numOfProcessClosed = line1Size - len(intersectSet)\n",
    "    \n",
    "    return numOfProcessOpened, numOfProcessClosed"
   ]
  },
  {
   "cell_type": "code",
   "execution_count": 14,
   "metadata": {},
   "outputs": [
    {
     "name": "stdout",
     "output_type": "stream",
     "text": [
      "7\n",
      "13\n"
     ]
    }
   ],
   "source": [
    "numOpened, numClosed = calProcessChange(processContent[0], processContent[1])\n",
    "print numOpened\n",
    "print numClosed\n"
   ]
  },
  {
   "cell_type": "code",
   "execution_count": 15,
   "metadata": {
    "collapsed": true
   },
   "outputs": [],
   "source": [
    "numOpenedList = []\n",
    "numClosedList = []\n",
    "for i in range(len(processContent)):\n",
    "    if i == 0:\n",
    "        numOpenedList.append(-1)\n",
    "        numClosedList.append(-1)\n",
    "        continue\n",
    "    numOpened, numClosed = calProcessChange(processContent[i-1], processContent[i])\n",
    "    numOpenedList.append(numOpened)\n",
    "    numClosedList.append(numClosed)"
   ]
  },
  {
   "cell_type": "code",
   "execution_count": 16,
   "metadata": {},
   "outputs": [
    {
     "name": "stdout",
     "output_type": "stream",
     "text": [
      "Time: 2018-12-03-18:10:53\n",
      "# of Process Opened: -1\n",
      "# of Process Closed: -1\n",
      "\n",
      "\n",
      "Time: 2018-12-03-18:15:54\n",
      "# of Process Opened: 7\n",
      "# of Process Closed: 13\n",
      "\n",
      "\n",
      "Time: 2018-12-03-18:20:54\n",
      "# of Process Opened: 3\n",
      "# of Process Closed: 5\n",
      "\n",
      "\n",
      "Time: 2018-12-03-18:25:54\n",
      "# of Process Opened: 9\n",
      "# of Process Closed: 5\n",
      "\n",
      "\n",
      "Time: 2018-12-03-18:30:55\n",
      "# of Process Opened: 4\n",
      "# of Process Closed: 9\n",
      "\n",
      "\n",
      "Time: 2018-12-03-18:35:55\n",
      "# of Process Opened: 7\n",
      "# of Process Closed: 3\n",
      "\n",
      "\n",
      "Time: 2018-12-03-18:40:55\n",
      "# of Process Opened: 2\n",
      "# of Process Closed: 4\n",
      "\n",
      "\n",
      "Time: 2018-12-03-18:45:56\n",
      "# of Process Opened: 2\n",
      "# of Process Closed: 3\n",
      "\n",
      "\n",
      "Time: 2018-12-03-18:50:56\n",
      "# of Process Opened: 2\n",
      "# of Process Closed: 2\n",
      "\n",
      "\n",
      "Time: 2018-12-03-18:55:56\n",
      "# of Process Opened: 3\n",
      "# of Process Closed: 2\n",
      "\n",
      "\n",
      "Time: 2018-12-03-19:00:57\n",
      "# of Process Opened: 2\n",
      "# of Process Closed: 2\n",
      "\n",
      "\n",
      "Time: 2018-12-03-19:05:57\n",
      "# of Process Opened: 2\n",
      "# of Process Closed: 5\n",
      "\n",
      "\n",
      "Time: 2018-12-03-19:10:57\n",
      "# of Process Opened: 2\n",
      "# of Process Closed: 2\n",
      "\n",
      "\n",
      "Time: 2018-12-03-19:15:58\n",
      "# of Process Opened: 2\n",
      "# of Process Closed: 2\n",
      "\n",
      "\n",
      "Time: 2018-12-03-19:20:58\n",
      "# of Process Opened: 3\n",
      "# of Process Closed: 2\n",
      "\n",
      "\n",
      "Time: 2018-12-03-19:25:58\n",
      "# of Process Opened: 3\n",
      "# of Process Closed: 2\n",
      "\n",
      "\n",
      "Time: 2018-12-03-19:30:59\n",
      "# of Process Opened: 3\n",
      "# of Process Closed: 4\n",
      "\n",
      "\n",
      "Time: 2018-12-03-19:35:59\n",
      "# of Process Opened: 6\n",
      "# of Process Closed: 3\n",
      "\n",
      "\n",
      "Time: 2018-12-03-19:40:59\n",
      "# of Process Opened: 7\n",
      "# of Process Closed: 3\n",
      "\n",
      "\n",
      "Time: 2018-12-03-19:45:29\n",
      "# of Process Opened: 25\n",
      "# of Process Closed: 21\n",
      "\n",
      "\n",
      "Time: 2018-12-03-19:50:30\n",
      "# of Process Opened: 6\n",
      "# of Process Closed: 8\n",
      "\n",
      "\n",
      "Time: 2018-12-03-19:55:30\n",
      "# of Process Opened: 4\n",
      "# of Process Closed: 3\n",
      "\n",
      "\n",
      "Time: 2018-12-03-20:00:30\n",
      "# of Process Opened: 5\n",
      "# of Process Closed: 4\n",
      "\n",
      "\n",
      "Time: 2018-12-03-20:05:31\n",
      "# of Process Opened: 3\n",
      "# of Process Closed: 5\n",
      "\n",
      "\n",
      "Time: 2018-12-03-20:10:31\n",
      "# of Process Opened: 6\n",
      "# of Process Closed: 5\n",
      "\n",
      "\n",
      "Time: 2018-12-03-20:15:32\n",
      "# of Process Opened: 4\n",
      "# of Process Closed: 6\n",
      "\n",
      "\n",
      "Time: 2018-12-03-20:20:32\n",
      "# of Process Opened: 2\n",
      "# of Process Closed: 3\n",
      "\n",
      "\n",
      "Time: 2018-12-03-20:25:32\n",
      "# of Process Opened: 6\n",
      "# of Process Closed: 4\n",
      "\n",
      "\n",
      "Time: 2018-12-03-20:30:33\n",
      "# of Process Opened: 3\n",
      "# of Process Closed: 2\n",
      "\n",
      "\n",
      "Time: 2018-12-03-20:35:33\n",
      "# of Process Opened: 5\n",
      "# of Process Closed: 4\n",
      "\n",
      "\n",
      "Time: 2018-12-03-20:40:33\n",
      "# of Process Opened: 7\n",
      "# of Process Closed: 9\n",
      "\n",
      "\n",
      "Time: 2018-12-03-20:45:34\n",
      "# of Process Opened: 5\n",
      "# of Process Closed: 6\n",
      "\n",
      "\n",
      "Time: 2018-12-03-20:50:34\n",
      "# of Process Opened: 8\n",
      "# of Process Closed: 4\n",
      "\n",
      "\n",
      "Time: 2018-12-03-20:55:35\n",
      "# of Process Opened: 5\n",
      "# of Process Closed: 3\n",
      "\n",
      "\n",
      "Time: 2018-12-03-21:00:35\n",
      "# of Process Opened: 2\n",
      "# of Process Closed: 3\n",
      "\n",
      "\n",
      "Time: 2018-12-03-21:05:35\n",
      "# of Process Opened: 2\n",
      "# of Process Closed: 2\n",
      "\n",
      "\n",
      "Time: 2018-12-03-21:10:36\n",
      "# of Process Opened: 4\n",
      "# of Process Closed: 2\n",
      "\n",
      "\n",
      "Time: 2018-12-03-21:15:36\n",
      "# of Process Opened: 8\n",
      "# of Process Closed: 6\n",
      "\n",
      "\n",
      "Time: 2018-12-03-21:20:37\n",
      "# of Process Opened: 6\n",
      "# of Process Closed: 5\n",
      "\n",
      "\n",
      "Time: 2018-12-03-21:25:37\n",
      "# of Process Opened: 6\n",
      "# of Process Closed: 14\n",
      "\n",
      "\n",
      "Time: 2018-12-03-21:30:38\n",
      "# of Process Opened: 4\n",
      "# of Process Closed: 8\n",
      "\n",
      "\n",
      "Time: 2018-12-03-21:35:38\n",
      "# of Process Opened: 2\n",
      "# of Process Closed: 3\n",
      "\n",
      "\n",
      "Time: 2018-12-03-21:40:38\n",
      "# of Process Opened: 4\n",
      "# of Process Closed: 2\n",
      "\n",
      "\n"
     ]
    }
   ],
   "source": [
    "for i in range(len(processContent)):\n",
    "    print(\"Time: \" + processContent[i].split(\" \")[1])\n",
    "    print(\"# of Process Opened: \" + str(numOpenedList[i]))\n",
    "    print(\"# of Process Closed: \" + str(numClosedList[i]))\n",
    "    print(\"\\n\")"
   ]
  },
  {
   "cell_type": "code",
   "execution_count": 17,
   "metadata": {},
   "outputs": [
    {
     "data": {
      "text/plain": [
       "43"
      ]
     },
     "execution_count": 17,
     "metadata": {},
     "output_type": "execute_result"
    }
   ],
   "source": [
    "len(processContent)"
   ]
  },
  {
   "cell_type": "code",
   "execution_count": 18,
   "metadata": {
    "collapsed": true
   },
   "outputs": [],
   "source": [
    "df1 = pd.DataFrame(numOpenedList, columns=['Num of process opened'])\n",
    "df2 = pd.DataFrame(numClosedList, columns=['Num of process deleted'])\n",
    "df1.to_csv(\"process_open_monitor.csv\", index=False, sep=' ')\n",
    "df2.to_csv(\"process_deleted_monitor.csv\", index=False, sep=' ')"
   ]
  },
  {
   "cell_type": "code",
   "execution_count": null,
   "metadata": {
    "collapsed": true
   },
   "outputs": [],
   "source": []
  }
 ],
 "metadata": {
  "kernelspec": {
   "display_name": "Python 2",
   "language": "python",
   "name": "python2"
  },
  "language_info": {
   "codemirror_mode": {
    "name": "ipython",
    "version": 2
   },
   "file_extension": ".py",
   "mimetype": "text/x-python",
   "name": "python",
   "nbconvert_exporter": "python",
   "pygments_lexer": "ipython2",
   "version": "2.7.13"
  }
 },
 "nbformat": 4,
 "nbformat_minor": 2
}
