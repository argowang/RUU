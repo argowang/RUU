{
 "cells": [
  {
   "cell_type": "code",
   "execution_count": 1,
   "metadata": {
    "collapsed": true
   },
   "outputs": [],
   "source": [
    "import re\n",
    "import pandas as pd"
   ]
  },
  {
   "cell_type": "code",
   "execution_count": 5,
   "metadata": {
    "collapsed": true
   },
   "outputs": [],
   "source": [
    "LOG_DIR = \"../log\"\n",
    "DECOY_CONFIG_PATH = \"../decoyConfig.txt\""
   ]
  },
  {
   "cell_type": "code",
   "execution_count": 21,
   "metadata": {},
   "outputs": [
    {
     "name": "stdout",
     "output_type": "stream",
     "text": [
      "['scannedSSN.pdf', 'scannedSSN1.pdf', 'scannedSSN2.pdf', 'scannedSSN3.pdf', 'scannedSSN4.pdf', 'scannedSSN5.pdf', 'Junyi_Driver_License.jpg', 'Junyi_Driver_License1.jpg', 'Junyi_Driver_License2.jpg', 'Junyi_Driver_License4.jpg', 'Junyi_Driver_License5.jpg', 'Junyi_Wang_Unofficial_Transcript.pdf', 'Nov_BOA_Bank_Statement.pdf', 'Oath_Signed_With_Passport.pdf', 'security-deposit-check-copy.pdf', 'BOA-check-both-side.pdf', 'i20-opt.pdf', 'SocialSecurityNumber.pdf', 'online-account.txt', 'passport-copy.jpeg', 'columbia-id.jpg', 'columbia-id2.jpg', 'UndergradResume2.pdf', 'UndergradResume.pdf']\n"
     ]
    }
   ],
   "source": [
    "previewLogFile = open(LOG_DIR+\"/preview.log\", \"r\")\n",
    "texteditLogFile = open(LOG_DIR+\"/textedit.log\", \"r\")\n",
    "decoyConfigFile = open(DECOY_CONFIG_PATH, \"r\")\n",
    "\n",
    "previewLogContent = previewLogFile.readlines()\n",
    "texteditLogContent = texteditLogFile.readlines()\n",
    "decoyConfigContent = decoyConfigFile.readlines()\n",
    "decoyList = []\n",
    "for filename in decoyConfigContent:\n",
    "    if \"\\n\" in filename:\n",
    "        decoyList.append(filename[:-1])\n",
    "    else:\n",
    "        decoyList.append(filename)\n",
    "print decoyList"
   ]
  },
  {
   "cell_type": "code",
   "execution_count": 7,
   "metadata": {
    "collapsed": true
   },
   "outputs": [],
   "source": [
    "previewLogContent = [line for line in previewLogContent if \"---5min Preview\" in line or \".jpg\" in line or \".jpeg\" in line or \".pdf\" in line or \".png\" in line]\n",
    "texteditLogContent = [line for line in texteditLogContent if \"---5min TextEdit\" in line or \".txt\" in line]"
   ]
  },
  {
   "cell_type": "code",
   "execution_count": 8,
   "metadata": {
    "collapsed": true
   },
   "outputs": [],
   "source": [
    "def previewSplitByMilestone(inputList):    \n",
    "    copy = False\n",
    "    buffer = \"\"\n",
    "    splitByMilestone = []\n",
    "    for line in inputList:\n",
    "        if \"---5min Preview\" in line:\n",
    "            copy = True\n",
    "            splitByMilestone.append(buffer)\n",
    "            buffer = \"\"\n",
    "        if copy:\n",
    "            buffer += line.split(\"/\")[-1]\n",
    "    return splitByMilestone"
   ]
  },
  {
   "cell_type": "code",
   "execution_count": 9,
   "metadata": {
    "collapsed": true
   },
   "outputs": [],
   "source": [
    "def texteditSplitByMilestone(inputList):\n",
    "    copy = False\n",
    "    buffer = \"\"\n",
    "    splitByMilestone = []\n",
    "    for line in inputList:\n",
    "        if \"---5min TextEdit\" in line:\n",
    "            copy = True\n",
    "            splitByMilestone.append(buffer)\n",
    "            buffer = \"\"\n",
    "        if copy:\n",
    "            buffer += line.split(\"/\")[-1]\n",
    "    return splitByMilestone"
   ]
  },
  {
   "cell_type": "code",
   "execution_count": 10,
   "metadata": {
    "collapsed": true
   },
   "outputs": [],
   "source": [
    "previewByMilestone = previewSplitByMilestone(previewLogContent)[1:]\n",
    "texteditByMilestone = texteditSplitByMilestone(texteditLogContent)[1:]"
   ]
  },
  {
   "cell_type": "code",
   "execution_count": 31,
   "metadata": {
    "collapsed": true
   },
   "outputs": [],
   "source": [
    "def calFileTouched(previewByMilestone, texteditByMilestone, decoyList):\n",
    "    docTouchedList = []\n",
    "    imgTouchedList = []\n",
    "    decoyTouchedList = []\n",
    "    for i in range(len(previewByMilestone)):\n",
    "        docTouched = 0\n",
    "        imgTouched = 0\n",
    "        decoyTouched = 0\n",
    "        \n",
    "        previewSet = set(previewByMilestone[i].split(\"\\n\")[1:])\n",
    "        for eachFile in previewSet:\n",
    "#             print eachFile.strip()\n",
    "            if \".jpg\" in eachFile or \".jpeg\" in eachFile or \".png\" in eachFile:\n",
    "                imgTouched += 1\n",
    "            if \".pdf\" in eachFile:\n",
    "                docTouched += 1\n",
    "            if eachFile.strip() in decoyList:\n",
    "                print eachFile\n",
    "                decoyTouched += 1\n",
    "        \n",
    "        texteditSet = set(texteditByMilestone[i].split(\"\\n\")[1:])\n",
    "        for eachFile in texteditSet:\n",
    "            if \".txt\" in eachFile:\n",
    "                docTouched += 1\n",
    "            if eachFile.strip() in decoyList:\n",
    "                print eachFile\n",
    "                decoyTouched += 1\n",
    "                \n",
    "        docTouchedList.append(docTouched)\n",
    "        imgTouchedList.append(imgTouched)\n",
    "        decoyTouchedList.append(decoyTouched)\n",
    "        \n",
    "    return docTouchedList, imgTouchedList, decoyTouchedList\n",
    "        \n",
    "            "
   ]
  },
  {
   "cell_type": "code",
   "execution_count": 32,
   "metadata": {},
   "outputs": [
    {
     "name": "stdout",
     "output_type": "stream",
     "text": [
      "security-deposit-check-copy.pdf \n",
      "Junyi_Driver_License.jpg \n",
      "scannedSSN2.pdf \n",
      "Nov_BOA_Bank_Statement.pdf \n",
      "Oath_Signed_With_Passport.pdf \n"
     ]
    }
   ],
   "source": [
    "docTouchedList, imgTouchedList, decoyTouchedList = calFileTouched(previewByMilestone, texteditByMilestone, decoyList)"
   ]
  },
  {
   "cell_type": "code",
   "execution_count": 33,
   "metadata": {},
   "outputs": [
    {
     "name": "stdout",
     "output_type": "stream",
     "text": [
      "---5min Preview Audit milestone--- 2018-12-03-16:45:10\n",
      "Document Touched: 0\n",
      "Image Touched: 0\n",
      "Decoy Touched: 0\n",
      "\n",
      "\n",
      "---5min Preview Audit milestone--- 2018-12-03-16:50:10\n",
      "Document Touched: 1\n",
      "Image Touched: 0\n",
      "Decoy Touched: 1\n",
      "\n",
      "\n",
      "---5min Preview Audit milestone--- 2018-12-03-16:55:10\n",
      "Document Touched: 1\n",
      "Image Touched: 2\n",
      "Decoy Touched: 2\n",
      "\n",
      "\n",
      "---5min Preview Audit milestone--- 2018-12-03-17:00:11\n",
      "Document Touched: 1\n",
      "Image Touched: 0\n",
      "Decoy Touched: 0\n",
      "\n",
      "\n",
      "---5min Preview Audit milestone--- 2018-12-03-17:05:11\n",
      "Document Touched: 1\n",
      "Image Touched: 1\n",
      "Decoy Touched: 0\n",
      "\n",
      "\n",
      "---5min Preview Audit milestone--- 2018-12-03-17:10:12\n",
      "Document Touched: 2\n",
      "Image Touched: 0\n",
      "Decoy Touched: 0\n",
      "\n",
      "\n",
      "---5min Preview Audit milestone--- 2018-12-03-17:15:12\n",
      "Document Touched: 5\n",
      "Image Touched: 0\n",
      "Decoy Touched: 0\n",
      "\n",
      "\n",
      "---5min Preview Audit milestone--- 2018-12-03-17:20:12\n",
      "Document Touched: 1\n",
      "Image Touched: 1\n",
      "Decoy Touched: 0\n",
      "\n",
      "\n",
      "---5min Preview Audit milestone--- 2018-12-03-17:25:13\n",
      "Document Touched: 0\n",
      "Image Touched: 0\n",
      "Decoy Touched: 0\n",
      "\n",
      "\n",
      "---5min Preview Audit milestone--- 2018-12-03-17:30:56\n",
      "Document Touched: 0\n",
      "Image Touched: 0\n",
      "Decoy Touched: 0\n",
      "\n",
      "\n",
      "---5min Preview Audit milestone--- 2018-12-03-17:35:56\n",
      "Document Touched: 0\n",
      "Image Touched: 0\n",
      "Decoy Touched: 0\n",
      "\n",
      "\n",
      "---5min Preview Audit milestone--- 2018-12-03-17:40:57\n",
      "Document Touched: 0\n",
      "Image Touched: 0\n",
      "Decoy Touched: 0\n",
      "\n",
      "\n",
      "---5min Preview Audit milestone--- 2018-12-03-17:45:57\n",
      "Document Touched: 0\n",
      "Image Touched: 0\n",
      "Decoy Touched: 0\n",
      "\n",
      "\n",
      "---5min Preview Audit milestone--- 2018-12-03-17:50:57\n",
      "Document Touched: 0\n",
      "Image Touched: 0\n",
      "Decoy Touched: 0\n",
      "\n",
      "\n",
      "---5min Preview Audit milestone--- 2018-12-03-17:55:58\n",
      "Document Touched: 0\n",
      "Image Touched: 0\n",
      "Decoy Touched: 0\n",
      "\n",
      "\n",
      "---5min Preview Audit milestone--- 2018-12-03-18:00:58\n",
      "Document Touched: 0\n",
      "Image Touched: 0\n",
      "Decoy Touched: 0\n",
      "\n",
      "\n",
      "---5min Preview Audit milestone--- 2018-12-03-18:05:58\n",
      "Document Touched: 0\n",
      "Image Touched: 0\n",
      "Decoy Touched: 0\n",
      "\n",
      "\n",
      "---5min Preview Audit milestone--- 2018-12-03-18:10:59\n",
      "Document Touched: 0\n",
      "Image Touched: 0\n",
      "Decoy Touched: 0\n",
      "\n",
      "\n",
      "---5min Preview Audit milestone--- 2018-12-03-18:15:59\n",
      "Document Touched: 0\n",
      "Image Touched: 0\n",
      "Decoy Touched: 0\n",
      "\n",
      "\n",
      "---5min Preview Audit milestone--- 2018-12-03-18:20:59\n",
      "Document Touched: 0\n",
      "Image Touched: 0\n",
      "Decoy Touched: 0\n",
      "\n",
      "\n",
      "---5min Preview Audit milestone--- 2018-12-03-18:26:00\n",
      "Document Touched: 0\n",
      "Image Touched: 0\n",
      "Decoy Touched: 0\n",
      "\n",
      "\n",
      "---5min Preview Audit milestone--- 2018-12-03-18:31:00\n",
      "Document Touched: 0\n",
      "Image Touched: 0\n",
      "Decoy Touched: 0\n",
      "\n",
      "\n",
      "---5min Preview Audit milestone--- 2018-12-03-18:36:00\n",
      "Document Touched: 0\n",
      "Image Touched: 0\n",
      "Decoy Touched: 0\n",
      "\n",
      "\n",
      "---5min Preview Audit milestone--- 2018-12-03-18:41:01\n",
      "Document Touched: 2\n",
      "Image Touched: 0\n",
      "Decoy Touched: 2\n",
      "\n",
      "\n"
     ]
    }
   ],
   "source": [
    "for i in range(len(docTouchedList)):\n",
    "    print previewByMilestone[i].split(\"\\n\")[0]\n",
    "    print(\"Document Touched: \" + str(docTouchedList[i]))\n",
    "    print(\"Image Touched: \" + str(imgTouchedList[i]))\n",
    "    print(\"Decoy Touched: \" + str(decoyTouchedList[i]))\n",
    "    print(\"\\n\")"
   ]
  },
  {
   "cell_type": "code",
   "execution_count": 34,
   "metadata": {
    "collapsed": true
   },
   "outputs": [],
   "source": [
    "df1 = pd.DataFrame(docTouchedList, columns=['Num of doc touched'])\n",
    "df2 = pd.DataFrame(imgTouchedList, columns=['Num of img touched'])\n",
    "df3 = pd.DataFrame(decoyTouchedList, columns=['Num of decoy touched'])\n",
    "df1.to_csv(\"doc_file_monitor.csv\", index=False, sep=' ')\n",
    "df2.to_csv(\"img_file_monitor.csv\", index=False, sep=' ')\n",
    "df3.to_csv(\"decoy_file_monitor.csv\", index=False, sep=' ')"
   ]
  },
  {
   "cell_type": "code",
   "execution_count": null,
   "metadata": {
    "collapsed": true
   },
   "outputs": [],
   "source": []
  }
 ],
 "metadata": {
  "kernelspec": {
   "display_name": "Python 2",
   "language": "python",
   "name": "python2"
  },
  "language_info": {
   "codemirror_mode": {
    "name": "ipython",
    "version": 2
   },
   "file_extension": ".py",
   "mimetype": "text/x-python",
   "name": "python",
   "nbconvert_exporter": "python",
   "pygments_lexer": "ipython2",
   "version": "2.7.13"
  }
 },
 "nbformat": 4,
 "nbformat_minor": 2
}
